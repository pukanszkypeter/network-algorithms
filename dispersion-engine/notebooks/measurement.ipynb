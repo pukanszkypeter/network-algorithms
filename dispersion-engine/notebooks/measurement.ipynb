{
 "cells": [
  {
   "cell_type": "code",
   "execution_count": 2,
   "metadata": {},
   "outputs": [],
   "source": [
    "import pandas as pd\n",
    "import numpy as np\n",
    "import sqlite3\n",
    "\n",
    "from matplotlib import pyplot as plt\n",
    "\n",
    "%matplotlib inline"
   ]
  },
  {
   "cell_type": "code",
   "execution_count": 4,
   "metadata": {},
   "outputs": [
    {
     "name": "stdout",
     "output_type": "stream",
     "text": [
      "   id algorithm_type graph_type  nodes  robots  steps\n",
      "0   1  dfs_traversal      Teszt      5       5      1\n",
      "1   2  dfs_traversal      Teszt      5       5     11\n",
      "2   3  dfs_traversal      Teszt      5       5     11\n",
      "3   4  dfs_traversal      Teszt      5       5     11\n",
      "4   5  dfs_traversal      Teszt      5       5     11\n"
     ]
    }
   ],
   "source": [
    "\n",
    "connection = sqlite3.connect(\"../database/memory.sqlite\")\n",
    "data = pd.read_sql_query(\"SELECT * from algorithm_results\", connection)\n",
    "\n",
    "print(data.head())\n",
    "\n",
    "connection.close()"
   ]
  },
  {
   "cell_type": "code",
   "execution_count": null,
   "metadata": {},
   "outputs": [],
   "source": []
  }
 ],
 "metadata": {
  "kernelspec": {
   "display_name": "Python 3",
   "language": "python",
   "name": "python3"
  },
  "language_info": {
   "codemirror_mode": {
    "name": "ipython",
    "version": 3
   },
   "file_extension": ".py",
   "mimetype": "text/x-python",
   "name": "python",
   "nbconvert_exporter": "python",
   "pygments_lexer": "ipython3",
   "version": "3.8.3"
  }
 },
 "nbformat": 4,
 "nbformat_minor": 4
}
